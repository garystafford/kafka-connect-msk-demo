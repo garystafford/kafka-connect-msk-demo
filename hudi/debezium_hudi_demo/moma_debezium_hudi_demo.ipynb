{
 "cells": [
  {
   "cell_type": "markdown",
   "id": "bfea4562",
   "metadata": {},
   "source": [
    "## Building Open Data Lakes with Debezium, Apache Kafka, Hudi, Spark, and Hive on AWS\n",
    "\n",
    "__Author:__ Gary A. Stafford  \n",
    "__Date:__ 2021-10-20  \n",
    "__Purpose:__ Demonstrate the use of Debezium, Apache Kafka, Hudi, Spark, and Hive to populate and manage an S3-based data lake on AWS from an Amazon RDS datasource. Apache Hudi, Spark, and Hive are hosted on Amazon EMR. Apache Kafka is hosted on Amazon MSK. Kafka Connect is hosted on Amazon EKS.  \n",
    "__References:__  \n",
    "- https://hudi.apache.org/docs/quick-start-guide/\n",
    "- https://docs.aws.amazon.com/emr/latest/ReleaseGuide/emr-hudi-work-with-dataset.html\n",
    "- https://hudi.apache.org/docs/configurations#SPARK_DATASOURCE"
   ]
  },
  {
   "cell_type": "markdown",
   "id": "c2a9c7c9",
   "metadata": {},
   "source": [
    "### Run Commands from Master Node\n",
    "\n",
    "SSH to EMR master node as `hadoop` user.\n",
    "\n",
    "```shell\n",
    "hdfs dfs -mkdir -p /apps/hudi/lib\n",
    "hdfs dfs -copyFromLocal /usr/lib/hudi/hudi-spark-bundle.jar /apps/hudi/lib/hudi-spark-bundle.jar\n",
    "hdfs dfs -copyFromLocal /usr/lib/spark/jars/spark-avro.jar /apps/hudi/lib/spark-avro.jar\n",
    "```"
   ]
  },
  {
   "cell_type": "markdown",
   "id": "aece5fa5",
   "metadata": {},
   "source": [
    "### Museum of Modern Art Collection\n",
    "Title, artist, date, and medium of every artwork in the MoMA collection.\n",
    "\n",
    "Dataset: https://www.kaggle.com/momanyc/museum-collection\n",
    "\n",
    "CSV-format data files:\n",
    "- artists.csv (596K / ~15k rows)\n",
    "- artworks.csv (33M / ~130k rows)"
   ]
  },
  {
   "cell_type": "markdown",
   "id": "9037a9b1",
   "metadata": {},
   "source": [
    "### Hudi DeltaStreamer Spark Job\n",
    "\n",
    "Start the Hudi DeltaStreamer job on EMR."
   ]
  },
  {
   "cell_type": "code",
   "execution_count": null,
   "id": "1bcf12ad",
   "metadata": {},
   "outputs": [],
   "source": [
    "from pyspark.sql import SparkSession\n",
    "\n",
    "spark = SparkSession \\\n",
    "    .builder \\\n",
    "    .appName(\"moma-cdc-hudi\") \\\n",
    "    .enableHiveSupport() \\\n",
    "    .getOrCreate()"
   ]
  },
  {
   "cell_type": "code",
   "execution_count": null,
   "id": "41cb881f",
   "metadata": {},
   "outputs": [],
   "source": [
    "%%configure -f\n",
    "{\n",
    "    \"conf\": {\n",
    "        \"spark.jars\":\n",
    "            \"hdfs:///apps/hudi/lib/hudi-spark-bundle.jar,hdfs:///apps/hudi/lib/spark-avro.jar\",\n",
    "        \"spark.serializer\":\n",
    "            \"org.apache.spark.serializer.KryoSerializer\",\n",
    "        \"spark.sql.hive.convertMetastoreParquet\":\n",
    "            \"false\"\n",
    "    }\n",
    "}"
   ]
  },
  {
   "cell_type": "code",
   "execution_count": null,
   "id": "6e72a317",
   "metadata": {},
   "outputs": [],
   "source": [
    "from datetime import datetime\n",
    "import os\n",
    "import boto3"
   ]
  },
  {
   "cell_type": "code",
   "execution_count": null,
   "id": "c1f4a676",
   "metadata": {},
   "outputs": [],
   "source": [
    "spark.sql(\"SHOW databases;\").show(truncate=False)"
   ]
  },
  {
   "cell_type": "code",
   "execution_count": null,
   "id": "34509ff8",
   "metadata": {},
   "outputs": [],
   "source": [
    "spark.sql(\"USE moma;\")\n",
    "spark.sql(\"SHOW TABLES;\").show(truncate=False)"
   ]
  },
  {
   "cell_type": "code",
   "execution_count": null,
   "id": "54107353",
   "metadata": {},
   "outputs": [],
   "source": [
    "spark.sql(\"DESCRIBE artists_ro;\").show(truncate=False)"
   ]
  },
  {
   "cell_type": "code",
   "execution_count": null,
   "id": "6921cecd",
   "metadata": {},
   "outputs": [],
   "source": [
    "spark.sql(\"SHOW PARTITIONS artists_ro;\").show(15, truncate=False)"
   ]
  },
  {
   "cell_type": "code",
   "execution_count": null,
   "id": "81a1e527",
   "metadata": {},
   "outputs": [],
   "source": [
    "spark.sql(\"SELECT * FROM artists_rt LIMIT 5;\").show()"
   ]
  },
  {
   "cell_type": "code",
   "execution_count": null,
   "id": "18826e74",
   "metadata": {},
   "outputs": [],
   "source": [
    "%%sh\n",
    "\n",
    "# preview hudi files in s3\n",
    "export DATA_LAKE_BUCKET=\"<your_data_lake_bucket>\"\n",
    "\n",
    "aws s3api list-objects-v2 \\\n",
    "    --bucket $DATA_LAKE_BUCKET --prefix \"moma/artists\" \\\n",
    "    --query \"Contents[].Key\" --max-items 50"
   ]
  },
  {
   "cell_type": "markdown",
   "id": "29857437",
   "metadata": {},
   "source": [
    "## Make Some Changes\n",
    "\n",
    "Make changes to the database. Confirm new Avro are file created in raw part of the data lake. Confirm the new Parquet files are created in the Hudi-managed part of the data lake."
   ]
  },
  {
   "cell_type": "markdown",
   "id": "d5d11548",
   "metadata": {},
   "source": [
    "From AWS documentation: \"_Hudi creates two tables in the Hive metastore for __MoR__: a table with the name that you specified, which is a read-optimized view (__\\_ro__), and a table with the same name appended with __\\_rt__, which is a real-time view. You can query both tables._\""
   ]
  },
  {
   "cell_type": "markdown",
   "id": "6979bef6",
   "metadata": {},
   "source": [
    "#### Debezium Operations\n",
    "\n",
    "Mandatory string that describes the type of operation that caused the connector to generate the event. In this example, c indicates that the operation created a row. Valid values are:\n",
    "\n",
    "- c = create\n",
    "- r = read (applies to only snapshots)\n",
    "- u = update\n",
    "- d = delete"
   ]
  },
  {
   "cell_type": "markdown",
   "id": "15c06cc0",
   "metadata": {},
   "source": [
    "#### References\n",
    "- <https://hudi.apache.org/docs/querying_data/>  \n",
    "- <https://docs.aws.amazon.com/emr/latest/ReleaseGuide/emr-hudi-how-it-works.html>\n",
    "- <https://debezium.io/documentation/reference/connectors/postgresql.html#postgresql-create-events>"
   ]
  },
  {
   "cell_type": "code",
   "execution_count": null,
   "id": "e294af97",
   "metadata": {},
   "outputs": [],
   "source": [
    "spark.sql(\"SELECT * FROM artists_ro WHERE artist_id IN (445, 535);\").show()"
   ]
  },
  {
   "cell_type": "code",
   "execution_count": null,
   "id": "7f97617d",
   "metadata": {},
   "outputs": [],
   "source": [
    "spark.sql(\"SELECT * FROM artists_rt WHERE artist_id IN (445, 535);\").show()"
   ]
  },
  {
   "cell_type": "code",
   "execution_count": null,
   "id": "1df8eeb6",
   "metadata": {},
   "outputs": [],
   "source": [
    "spark.sql(\"SELECT * FROM artists_ro WHERE artist_id IN (451);\").show()"
   ]
  },
  {
   "cell_type": "code",
   "execution_count": null,
   "id": "7d72f143",
   "metadata": {},
   "outputs": [],
   "source": [
    "spark.sql(\"SELECT * FROM artists_rt WHERE artist_id IN (451);\").show()"
   ]
  },
  {
   "cell_type": "code",
   "execution_count": null,
   "id": "e751e5db",
   "metadata": {},
   "outputs": [],
   "source": []
  }
 ],
 "metadata": {
  "kernelspec": {
   "display_name": "PySpark",
   "language": "",
   "name": "pysparkkernel"
  },
  "language_info": {
   "codemirror_mode": {
    "name": "python",
    "version": 3
   },
   "mimetype": "text/x-python",
   "name": "pyspark",
   "pygments_lexer": "python3"
  }
 },
 "nbformat": 4,
 "nbformat_minor": 5
}
